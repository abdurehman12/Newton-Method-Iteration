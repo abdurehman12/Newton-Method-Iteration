{
  "nbformat": 4,
  "nbformat_minor": 0,
  "metadata": {
    "colab": {
      "name": "Newton Method.ipynb",
      "provenance": [],
      "collapsed_sections": []
    },
    "kernelspec": {
      "name": "python3",
      "display_name": "Python 3"
    },
    "language_info": {
      "name": "python"
    }
  },
  "cells": [
    {
      "cell_type": "code",
      "metadata": {
        "colab": {
          "base_uri": "https://localhost:8080/",
          "height": 1000
        },
        "id": "TkalpFMbLd5-",
        "outputId": "417fbcdc-aedb-4101-c8d0-1324e0cb90c2"
      },
      "source": [
        "from math import exp as e\n",
        "from math import cos as cos\n",
        "import math\n",
        "from sympy import *\n",
        "from math import *\n",
        "from __future__ import division\n",
        "from sympy import *\n",
        "import matplotlib.pyplot as plt\n",
        "import numpy as np\n",
        "import time\n",
        "start_time = time.time()\n",
        "\n",
        "'''In this part of the code we are taking the initial guess, tolerance and our function as input.'''\n",
        "\n",
        "initial_guess= input(\"enter initial guess: \")\n",
        "tolerence = input(\"Enter tolerence value: \")\n",
        "fx = '(exp(x) + 2**-x+ 2*cos(x) - 6)'\n",
        "f = lambda x: eval(fx)\n",
        "x=Symbol('x')\n",
        "diffrential = str((diff(eval(fx),x)))\n",
        "ans  = lambda x: eval(diffrential)\n",
        "#print(f.Value())\n",
        "aaa=(f(float(initial_guess)))\n",
        "print(f(float(initial_guess)))\n",
        "x=symbols('x')\n",
        "a = diff(eval(fx))\n",
        "print(ans)\n",
        "abc=ans(float(initial_guess))\n",
        "f1= float(initial_guess) - ((aaa)/abc) \n",
        "print(f1)\n",
        "tol=float(eval(tolerence))\n",
        "print(tol)\n",
        "counter=0\n",
        "print(\"f1 = \" + str(f1))\n",
        "print(\"initial_guess = \" + str(initial_guess))\n",
        "values = [f1]\n",
        "correspoing_y= [aaa]\n",
        "\n",
        "'''In this part of the code we are iteratively calculating all the successive iterations till the root.\n",
        "All our values are being save in a list.'''\n",
        "\n",
        "while abs((float(f1) - float(initial_guess))/(float(initial_guess))) >= tol:\n",
        "  if counter>0:\n",
        "    initial_guess=f1\n",
        "  f0=f(float(initial_guess))\n",
        "  df=ans(float(initial_guess))\n",
        "  f1=float(initial_guess)-((f0)/(df))\n",
        "  values.append(f1)\n",
        "  correspoing_y.append(f0)\n",
        "  counter+=1\n",
        "  print(\"px  = \" + str(f1) + \"\\n\")\n",
        "  print(float(f1) - float(initial_guess))\n",
        "\n",
        "'''In this part of the code we are printing the graph of our values in the specified domain.\n",
        "For this Question that is [1,2] '''\n",
        "t=[1,1.1,1.2,1.3,1.4,1.5,1.6,1.7,1.8,1.9,2]\n",
        "graphing_values=[]\n",
        "for value in t:\n",
        "  graphing_values.append(f(float(value)))\n",
        "print(t)\n",
        "print(graphing_values)\n",
        "x_points=np.array(values)\n",
        "y_points = np.array(correspoing_y)\n",
        "plt.figure\n",
        "plt.plot(t,graphing_values,marker=\"^\")\n",
        "plt.title(\"Newton Method Iterations\")\n",
        "plt.xlabel(\"P values\")\n",
        "plt.ylabel(\"F(x)\")\n",
        "plt.show()\n",
        "\n",
        "'''In this part of the code all our P values and its corresponding f(x) values \n",
        "are being store in a txt file.'''\n",
        "\n",
        "file2 = open(\"Newton Method.txt\",\"w\")\n",
        "file2.write(\"Number of iteration                 \" + \"Roots Approximation                                                           \" +\"   F(x)                                       \" + \"  Convergence\" + \"\\n\"  )\n",
        "for i in range(len(values)-1):\n",
        "  file2.write(str(i) +\"                 \")\n",
        "  file2.write(  str(values[i]) +\"           \" )\n",
        "  file2.write(str(correspoing_y[i])+  \"                   \" )\n",
        "  file2.write(str(abs((values[i+1]-values[-1])/(math.pow((values[i]-values[-1]),2))))+ \"\\n\")\n",
        "file2.write(\"The total number of iterations needed are \" + str(len(values)-1) + \"\\n\")\n",
        "file2.write(\"The root is \" + str(values[-1]))\n",
        "\n",
        "'''In this part of the code we are printing our root, our number of iterations needed\n",
        "to reach the root and our convergance CPU time.'''\n",
        "\n",
        "print(\"The root is \" + str(float(initial_guess)))\n",
        "print(\"number of iterations are \" +str(counter))\n",
        "print(\"--- %s seconds ---\" % (time.time() - start_time))"
      ],
      "execution_count": null,
      "outputs": [
        {
          "output_type": "stream",
          "name": "stdout",
          "text": [
            "enter initial guess: 1\n",
            "Enter tolerence value: 10**-20\n",
            "-1.70111355980467\n",
            "<function <lambda> at 0x7f2782911f80>\n",
            "1.0 + 1.70111355980467/(1.03533985884325 - 0.5*log(2))\n",
            "1e-20\n",
            "f1 = 1.0 + 1.70111355980467/(1.03533985884325 - 0.5*log(2))\n",
            "initial_guess = 1\n",
            "px  = 1.0 + 1.70111355980467/(1.03533985884325 - 0.5*log(2))\n",
            "\n",
            "2.469798010511003\n",
            "px  = 3.469798010511 - 24.3272653042279/(32.7749412143752 - 0.0902582107472774*log(2))\n",
            "\n",
            "-0.7436715413333297\n",
            "px  = 2.72612646917767 - 7.59488418029757/(14.4663764911836 - 0.151131210471479*log(2))\n",
            "\n",
            "-0.5288319849523946\n",
            "px  = 2.19729448422528 - 2.04605221552968/(7.38045790016775 - 0.218046164118351*log(2))\n",
            "\n",
            "-0.2830214000109508\n",
            "px  = 1.91427308421433 - 0.373787036693264/(4.89882802432189 - 0.265305578440431*log(2))\n",
            "\n",
            "-0.07927728756095931\n",
            "px  = 1.83499579665337 - 0.0231269497615338/(4.33450409519374 - 0.280292336148273*log(2))\n",
            "\n",
            "-0.005585922571794466\n",
            "px  = 1.82940987408157 - 0.000107757581836232/(4.29671800723851 - 0.281379694344079*log(2))\n",
            "\n",
            "-2.627156911527706e-05\n",
            "px  = 1.82938360251246 - 2.37316921669617e-9/(4.29654089528444 - 0.281384818332992*log(2))\n",
            "\n",
            "-5.786100487625845e-10\n",
            "px  = 1.82938360193385 - 8.88178419700125e-16/(4.29654089138376 - 0.281384818445845*log(2))\n",
            "\n",
            "-2.220446049250313e-16\n",
            "px  = 1.82938360193385\n",
            "\n",
            "0.0\n",
            "[1, 1.1, 1.2, 1.3, 1.4, 1.5, 1.6, 1.7, 1.8, 1.9, 2]\n",
            "[-1.70111355980467, -1.62212523743401, -1.51989228666204, -1.38957947695346, -1.22593660572724, -1.02328313573326, -0.775489642514239, -0.475955493527620, -0.117582136223970, 0.307258674186335, 0.806762425836365]\n"
          ]
        },
        {
          "output_type": "display_data",
          "data": {
            "image/png": "[encoded data removed]",
            "text/plain": [
              "<Figure size 432x288 with 1 Axes>"
            ]
          },
          "metadata": {
            "needs_background": "light"
          }
        },
        {
          "output_type": "stream",
          "name": "stdout",
          "text": [
            "The root is 1.8293836019338487\n",
            "number of iterations are 10\n",
            "--- 5.085678339004517 seconds ---\n"
          ]
        }
      ]
    },
    {
      "cell_type": "code",
      "metadata": {
        "id": "gH7Louw9vaq6"
      },
      "source": [
        ""
      ],
      "execution_count": null,
      "outputs": []
    }
  ]
}